{
 "cells": [
  {
   "cell_type": "markdown",
   "id": "6fcbd478-d7cc-448d-82e1-8f1e73b5d899",
   "metadata": {},
   "source": [
    "## Project 3 House Price Prediction\n",
    "Type of ML: Supervised Learning <br>\n",
    "Type of SL: Binary Classification <br>\n",
    "Type of BC: XGBoost Regression <br>"
   ]
  },
  {
   "cell_type": "markdown",
   "id": "ea4206dd-4481-4a6e-98e0-d42425f9b0e1",
   "metadata": {},
   "source": [
    "### Importing the Libraries"
   ]
  },
  {
   "cell_type": "code",
   "execution_count": null,
   "id": "7d193235-4c36-4fc2-9376-ad4d18b77b8b",
   "metadata": {},
   "outputs": [],
   "source": [
    "import numpy as np\n",
    "import pandas as pd\n",
    "from sklearn.model_selection import train_test_split"
   ]
  }
 ],
 "metadata": {
  "kernelspec": {
   "display_name": "Python 3 (ipykernel)",
   "language": "python",
   "name": "python3"
  },
  "language_info": {
   "codemirror_mode": {
    "name": "ipython",
    "version": 3
   },
   "file_extension": ".py",
   "mimetype": "text/x-python",
   "name": "python",
   "nbconvert_exporter": "python",
   "pygments_lexer": "ipython3",
   "version": "3.13.5"
  }
 },
 "nbformat": 4,
 "nbformat_minor": 5
}
