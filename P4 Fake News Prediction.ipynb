{
 "cells": [
  {
   "cell_type": "markdown",
   "id": "d9d20f67-5c36-4ed5-a6fb-583971704699",
   "metadata": {},
   "source": [
    "## Project 4: Fake News Prediction\n",
    "Type of ML: Supervised Learning <br>\n",
    "Type of SL: Binary Classification <br>\n",
    "Type of Regression: Logistic Regression"
   ]
  },
  {
   "cell_type": "markdown",
   "id": "cc903bae-eff7-44fb-ad4e-565d46ce5150",
   "metadata": {},
   "source": [
    "### Importing the Libraries"
   ]
  },
  {
   "cell_type": "code",
   "execution_count": 2,
   "id": "dec3e64e-2ab1-4d74-9680-28191d70f7ef",
   "metadata": {},
   "outputs": [],
   "source": [
    "import numpy as np\n",
    "import pandas as pd\n",
    "from sklearn.model_selection import train_test_split"
   ]
  },
  {
   "cell_type": "code",
   "execution_count": null,
   "id": "6f084c80-ea4b-4dca-a0c1-028524ee2ab7",
   "metadata": {},
   "outputs": [],
   "source": []
  }
 ],
 "metadata": {
  "kernelspec": {
   "display_name": "Python 3 (ipykernel)",
   "language": "python",
   "name": "python3"
  },
  "language_info": {
   "codemirror_mode": {
    "name": "ipython",
    "version": 3
   },
   "file_extension": ".py",
   "mimetype": "text/x-python",
   "name": "python",
   "nbconvert_exporter": "python",
   "pygments_lexer": "ipython3",
   "version": "3.13.5"
  }
 },
 "nbformat": 4,
 "nbformat_minor": 5
}
