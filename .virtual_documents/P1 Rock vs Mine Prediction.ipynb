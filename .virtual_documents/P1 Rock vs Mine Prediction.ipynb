





import numpy as np
import pandas as pd
from sklearn.model_selection import train_test_split
from sklearn.linear_model import LogisticRegression
from sklearn.metrics import accuracy_score





# Loading the dataset to a pandas Dataframe
sonar_data = pd.read_csv("data/sonar data.csv", header = None) # If no column name in csv then mention header = None


# First 5 values in the csv
sonar_data.head()


# No. of rows and columns
sonar_data.shape


# Gets the statistical measures of the data
sonar_data.describe()


sonar_data[60].value_counts()





sonar_data.groupby(60).mean()


# Separating Data and Labels
X = sonar_data.drop(columns = 60, axis = 1)
Y = sonar_data[60]





X_train, X_test, Y_train, Y_test = train_test_split(X, Y, test_size = 0.1, stratify = Y, random_state = 1)
# Stratify will split the data based on Y
# test size 90% train and 10% test size which is 0.1
# random_state = 1 will shuffle data in a specific way more like seed


print(X.shape, X_train.shape, X_test.shape)





model = LogisticRegression()


# Training the LR model with training data
model.fit(X_train, Y_train)





# Accuracy on training data (more than 70% is good)
x_train_prediction = model.predict(X_train)
training_data_accuracy = accuracy_score(x_train_prediction, Y_train)


print("Accuracy Score on Training Data: ", training_data_accuracy)


# Accuracy on Test Data
X_test_prediction = model.predict(X_test)
test_data_accuracy = accuracy_score(X_test_prediction, Y_test)


print("Accuracy Score on Testing Data: ", test_data_accuracy)





# For Rock
# input_data = (0.0200,0.0371,0.0428,0.0207,0.0954,0.0986,0.1539,0.1601,0.3109,0.2111,0.1609,0.1582,0.2238,0.0645,0.0660,0.2273,0.3100,0.2999,0.5078,0.4797,0.5783,0.5071,0.4328,0.5550,0.6711,0.6415,0.7104,0.8080,0.6791,0.3857,0.1307,0.2604,0.5121,0.7547,0.8537,0.8507,0.6692,0.6097,0.4943,0.2744,0.0510,0.2834,0.2825,0.4256,0.2641,0.1386,0.1051,0.1343,0.0383,0.0324,0.0232,0.0027,0.0065,0.0159,0.0072,0.0167,0.0180,0.0084,0.0090,0.0032)
# For Mine
input_data = (0.1313,0.2339,0.3059,0.4264,0.4010,0.1791,0.1853,0.0055,0.1929,0.2231,0.2907,0.2259,0.3136,0.3302,0.3660,0.3956,0.4386,0.4670,0.5255,0.3735,0.2243,0.1973,0.4337,0.6532,0.5070,0.2796,0.4163,0.5950,0.5242,0.4178,0.3714,0.2375,0.0863,0.1437,0.2896,0.4577,0.3725,0.3372,0.3803,0.4181,0.3603,0.2711,0.1653,0.1951,0.2811,0.2246,0.1921,0.1500,0.0665,0.0193,0.0156,0.0362,0.0210,0.0154,0.0180,0.0013,0.0106,0.0127,0.0178,0.0231)

# Changing the input_data to a numpy array
input_data_as_numpy_array = np.asarray(input_data)

# Reshape the numpy array as we are predicting for one instance
input_data_reshaped = input_data_as_numpy_array.reshape(1, -1)

prediction = model.predict(input_data_reshaped)

if (prediction[0] == 'R'):
    print("Rock")
else:
    print("Mine")
