





import numpy as np
import pandas as pd
import matplotlib.pyplot as plt
import seaborn as sns
import sklearn.datasets #Will get the Boston Housing Price but it has been removed so I have downloaded the csv
from sklearn.model_selection import train_test_split
from xgboost import XGBRegressor
from sklearn import metrics





house_price_dataset = pd.read_csv('data/boston.csv')
print(house_price_dataset.head())


# Checking the number of rows and columns in the dataset
house_price_dataset.shape


# Check for missing values 
house_price_dataset.isnull().sum()


# Statistical Measures of the dataset
house_price_dataset.describe()





correlation = house_price_dataset.corr()


# Constructing a heatmap to understand the correlation
plt.figure(figsize = (5, 5))
sns.heatmap(correlation, cbar = True, square = True, fmt = '.1f', annot = True, annot_kws = {'size': 6}, cmap = 'Blues')
# cbar is color bar which shows all values gradient color from 1.0 till -08
# square will show the values in square for each variable
# fmt is "how many float value I want" which is just 1 here i.e. 0.1 & so
# annot means annotation basically the value written in each box in the heatmap like 1.0...etc
# annot_kws is text size of the annotation
# cmap is the color of the heatmap





X = house_price_dataset.drop(['MEDV'], axis = 1)
y = house_price_dataset['MEDV']





X_train, X_test, y_train, y_test = train_test_split(X, y, test_size = 0.2, random_state = 2)


print(X.shape, X_train.shape, X_test.shape)





# Loading the Model
model = XGBRegressor()


# Training the model which simply means fitting the data in the model
model.fit(X_train, y_train)








# Accuracy for predicting on training data
training_data_prediction = model.predict(X_train)


# R Squared error
score_1 = metrics.r2_score(y_train, training_data_prediction)

# Mean Absolute error
score_2 = metrics.mean_absolute_error(y_train, training_data_prediction)

print("R squared error:", score_1)
print("Mean Absolute error:", score_2)





plt.scatter(y_train, training_data_prediction)
plt.xlabel("Actual Price")
plt.ylabel("Predicted Price")
plt.title("Actual Price Vs Predicted Price")
plt.show()





# accuracy for prediction on test data
test_data_prediction = model.predict(X_test)


# R Squared error
score_3 = metrics.r2_score(y_test, test_data_prediction)

# Mean Absolute error
score_4 = metrics.mean_absolute_error(y_test, test_data_prediction)

print("R Sqaured error:", score_3)
print("Mean Absolute error:", score_4)
